{
  "nbformat": 4,
  "nbformat_minor": 0,
  "metadata": {
    "colab": {
      "provenance": [],
      "collapsed_sections": []
    },
    "kernelspec": {
      "name": "python3",
      "display_name": "Python 3"
    },
    "language_info": {
      "name": "python"
    }
  },
  "cells": [
    {
      "cell_type": "markdown",
      "source": [
        "Import Libraries"
      ],
      "metadata": {
        "id": "e97oq7MlNXox"
      }
    },
    {
      "cell_type": "code",
      "execution_count": 1,
      "metadata": {
        "id": "qukMB5_tDlO-"
      },
      "outputs": [],
      "source": [
        "import pandas as pd\n",
        "import numpy as np\n",
        "import matplotlib.pyplot as plt "
      ]
    },
    {
      "cell_type": "markdown",
      "source": [
        "unzip the file"
      ],
      "metadata": {
        "id": "s22CSltVNtN0"
      }
    },
    {
      "cell_type": "code",
      "source": [
        "!unzip '/content/archive.zip'"
      ],
      "metadata": {
        "colab": {
          "base_uri": "https://localhost:8080/"
        },
        "id": "GuVPqgGYG9Ul",
        "outputId": "1723bb4f-6b79-4f5c-c1e2-8a05b9609c4f"
      },
      "execution_count": 2,
      "outputs": [
        {
          "output_type": "stream",
          "name": "stdout",
          "text": [
            "Archive:  /content/archive.zip\n",
            "  inflating: Crude Oil Prices Daily.xlsx  \n"
          ]
        }
      ]
    },
    {
      "cell_type": "markdown",
      "source": [
        "Load the dataset"
      ],
      "metadata": {
        "id": "9UgBXKDrNyrK"
      }
    },
    {
      "cell_type": "code",
      "source": [
        "Data = pd.read_excel('/content/Crude Oil Prices Daily.xlsx')\n",
        "Data"
      ],
      "metadata": {
        "colab": {
          "base_uri": "https://localhost:8080/",
          "height": 424
        },
        "id": "7OSomiiVHOJX",
        "outputId": "0b0679ca-27c4-4ff5-9593-9f3184846668"
      },
      "execution_count": 3,
      "outputs": [
        {
          "output_type": "execute_result",
          "data": {
            "text/plain": [
              "           Date  Closing Value\n",
              "0    1986-01-02          25.56\n",
              "1    1986-01-03          26.00\n",
              "2    1986-01-06          26.53\n",
              "3    1986-01-07          25.85\n",
              "4    1986-01-08          25.87\n",
              "...         ...            ...\n",
              "8218 2018-07-03          74.19\n",
              "8219 2018-07-04            NaN\n",
              "8220 2018-07-05          73.05\n",
              "8221 2018-07-06          73.78\n",
              "8222 2018-07-09          73.93\n",
              "\n",
              "[8223 rows x 2 columns]"
            ],
            "text/html": [
              "\n",
              "  <div id=\"df-8bb47af1-968a-4581-8818-0fad80dacbc1\">\n",
              "    <div class=\"colab-df-container\">\n",
              "      <div>\n",
              "<style scoped>\n",
              "    .dataframe tbody tr th:only-of-type {\n",
              "        vertical-align: middle;\n",
              "    }\n",
              "\n",
              "    .dataframe tbody tr th {\n",
              "        vertical-align: top;\n",
              "    }\n",
              "\n",
              "    .dataframe thead th {\n",
              "        text-align: right;\n",
              "    }\n",
              "</style>\n",
              "<table border=\"1\" class=\"dataframe\">\n",
              "  <thead>\n",
              "    <tr style=\"text-align: right;\">\n",
              "      <th></th>\n",
              "      <th>Date</th>\n",
              "      <th>Closing Value</th>\n",
              "    </tr>\n",
              "  </thead>\n",
              "  <tbody>\n",
              "    <tr>\n",
              "      <th>0</th>\n",
              "      <td>1986-01-02</td>\n",
              "      <td>25.56</td>\n",
              "    </tr>\n",
              "    <tr>\n",
              "      <th>1</th>\n",
              "      <td>1986-01-03</td>\n",
              "      <td>26.00</td>\n",
              "    </tr>\n",
              "    <tr>\n",
              "      <th>2</th>\n",
              "      <td>1986-01-06</td>\n",
              "      <td>26.53</td>\n",
              "    </tr>\n",
              "    <tr>\n",
              "      <th>3</th>\n",
              "      <td>1986-01-07</td>\n",
              "      <td>25.85</td>\n",
              "    </tr>\n",
              "    <tr>\n",
              "      <th>4</th>\n",
              "      <td>1986-01-08</td>\n",
              "      <td>25.87</td>\n",
              "    </tr>\n",
              "    <tr>\n",
              "      <th>...</th>\n",
              "      <td>...</td>\n",
              "      <td>...</td>\n",
              "    </tr>\n",
              "    <tr>\n",
              "      <th>8218</th>\n",
              "      <td>2018-07-03</td>\n",
              "      <td>74.19</td>\n",
              "    </tr>\n",
              "    <tr>\n",
              "      <th>8219</th>\n",
              "      <td>2018-07-04</td>\n",
              "      <td>NaN</td>\n",
              "    </tr>\n",
              "    <tr>\n",
              "      <th>8220</th>\n",
              "      <td>2018-07-05</td>\n",
              "      <td>73.05</td>\n",
              "    </tr>\n",
              "    <tr>\n",
              "      <th>8221</th>\n",
              "      <td>2018-07-06</td>\n",
              "      <td>73.78</td>\n",
              "    </tr>\n",
              "    <tr>\n",
              "      <th>8222</th>\n",
              "      <td>2018-07-09</td>\n",
              "      <td>73.93</td>\n",
              "    </tr>\n",
              "  </tbody>\n",
              "</table>\n",
              "<p>8223 rows × 2 columns</p>\n",
              "</div>\n",
              "      <button class=\"colab-df-convert\" onclick=\"convertToInteractive('df-8bb47af1-968a-4581-8818-0fad80dacbc1')\"\n",
              "              title=\"Convert this dataframe to an interactive table.\"\n",
              "              style=\"display:none;\">\n",
              "        \n",
              "  <svg xmlns=\"http://www.w3.org/2000/svg\" height=\"24px\"viewBox=\"0 0 24 24\"\n",
              "       width=\"24px\">\n",
              "    <path d=\"M0 0h24v24H0V0z\" fill=\"none\"/>\n",
              "    <path d=\"M18.56 5.44l.94 2.06.94-2.06 2.06-.94-2.06-.94-.94-2.06-.94 2.06-2.06.94zm-11 1L8.5 8.5l.94-2.06 2.06-.94-2.06-.94L8.5 2.5l-.94 2.06-2.06.94zm10 10l.94 2.06.94-2.06 2.06-.94-2.06-.94-.94-2.06-.94 2.06-2.06.94z\"/><path d=\"M17.41 7.96l-1.37-1.37c-.4-.4-.92-.59-1.43-.59-.52 0-1.04.2-1.43.59L10.3 9.45l-7.72 7.72c-.78.78-.78 2.05 0 2.83L4 21.41c.39.39.9.59 1.41.59.51 0 1.02-.2 1.41-.59l7.78-7.78 2.81-2.81c.8-.78.8-2.07 0-2.86zM5.41 20L4 18.59l7.72-7.72 1.47 1.35L5.41 20z\"/>\n",
              "  </svg>\n",
              "      </button>\n",
              "      \n",
              "  <style>\n",
              "    .colab-df-container {\n",
              "      display:flex;\n",
              "      flex-wrap:wrap;\n",
              "      gap: 12px;\n",
              "    }\n",
              "\n",
              "    .colab-df-convert {\n",
              "      background-color: #E8F0FE;\n",
              "      border: none;\n",
              "      border-radius: 50%;\n",
              "      cursor: pointer;\n",
              "      display: none;\n",
              "      fill: #1967D2;\n",
              "      height: 32px;\n",
              "      padding: 0 0 0 0;\n",
              "      width: 32px;\n",
              "    }\n",
              "\n",
              "    .colab-df-convert:hover {\n",
              "      background-color: #E2EBFA;\n",
              "      box-shadow: 0px 1px 2px rgba(60, 64, 67, 0.3), 0px 1px 3px 1px rgba(60, 64, 67, 0.15);\n",
              "      fill: #174EA6;\n",
              "    }\n",
              "\n",
              "    [theme=dark] .colab-df-convert {\n",
              "      background-color: #3B4455;\n",
              "      fill: #D2E3FC;\n",
              "    }\n",
              "\n",
              "    [theme=dark] .colab-df-convert:hover {\n",
              "      background-color: #434B5C;\n",
              "      box-shadow: 0px 1px 3px 1px rgba(0, 0, 0, 0.15);\n",
              "      filter: drop-shadow(0px 1px 2px rgba(0, 0, 0, 0.3));\n",
              "      fill: #FFFFFF;\n",
              "    }\n",
              "  </style>\n",
              "\n",
              "      <script>\n",
              "        const buttonEl =\n",
              "          document.querySelector('#df-8bb47af1-968a-4581-8818-0fad80dacbc1 button.colab-df-convert');\n",
              "        buttonEl.style.display =\n",
              "          google.colab.kernel.accessAllowed ? 'block' : 'none';\n",
              "\n",
              "        async function convertToInteractive(key) {\n",
              "          const element = document.querySelector('#df-8bb47af1-968a-4581-8818-0fad80dacbc1');\n",
              "          const dataTable =\n",
              "            await google.colab.kernel.invokeFunction('convertToInteractive',\n",
              "                                                     [key], {});\n",
              "          if (!dataTable) return;\n",
              "\n",
              "          const docLinkHtml = 'Like what you see? Visit the ' +\n",
              "            '<a target=\"_blank\" href=https://colab.research.google.com/notebooks/data_table.ipynb>data table notebook</a>'\n",
              "            + ' to learn more about interactive tables.';\n",
              "          element.innerHTML = '';\n",
              "          dataTable['output_type'] = 'display_data';\n",
              "          await google.colab.output.renderOutput(dataTable, element);\n",
              "          const docLink = document.createElement('div');\n",
              "          docLink.innerHTML = docLinkHtml;\n",
              "          element.appendChild(docLink);\n",
              "        }\n",
              "      </script>\n",
              "    </div>\n",
              "  </div>\n",
              "  "
            ]
          },
          "metadata": {},
          "execution_count": 3
        }
      ]
    },
    {
      "cell_type": "markdown",
      "source": [
        "Handling Missing Data"
      ],
      "metadata": {
        "id": "VEpRdV2ZOxEK"
      }
    },
    {
      "cell_type": "code",
      "source": [
        "Data.isnull().any()"
      ],
      "metadata": {
        "colab": {
          "base_uri": "https://localhost:8080/"
        },
        "id": "PRjXwGHeHzAA",
        "outputId": "023aa1fa-0f79-4fb4-cbf0-47b50f1c2316"
      },
      "execution_count": 4,
      "outputs": [
        {
          "output_type": "execute_result",
          "data": {
            "text/plain": [
              "Date             False\n",
              "Closing Value     True\n",
              "dtype: bool"
            ]
          },
          "metadata": {},
          "execution_count": 4
        }
      ]
    },
    {
      "cell_type": "code",
      "source": [
        "Data.isnull().sum()"
      ],
      "metadata": {
        "colab": {
          "base_uri": "https://localhost:8080/"
        },
        "id": "7ZeiQ30-IGCN",
        "outputId": "a8f5dfe1-4532-41cb-caf5-dac1323f09f5"
      },
      "execution_count": 5,
      "outputs": [
        {
          "output_type": "execute_result",
          "data": {
            "text/plain": [
              "Date             0\n",
              "Closing Value    7\n",
              "dtype: int64"
            ]
          },
          "metadata": {},
          "execution_count": 5
        }
      ]
    },
    {
      "cell_type": "code",
      "source": [
        "Data.dropna(axis=0,inplace=True)\n",
        "Data.isnull().sum()"
      ],
      "metadata": {
        "colab": {
          "base_uri": "https://localhost:8080/"
        },
        "id": "lg3wzy0bIMTG",
        "outputId": "c534bbad-ab56-43d2-8f8d-7494edc81f70"
      },
      "execution_count": 6,
      "outputs": [
        {
          "output_type": "execute_result",
          "data": {
            "text/plain": [
              "Date             0\n",
              "Closing Value    0\n",
              "dtype: int64"
            ]
          },
          "metadata": {},
          "execution_count": 6
        }
      ]
    },
    {
      "cell_type": "code",
      "source": [
        "data_oil=Data.reset_index()['Closing Value']\n",
        "data_oil"
      ],
      "metadata": {
        "colab": {
          "base_uri": "https://localhost:8080/"
        },
        "id": "riHQV8CpIsF9",
        "outputId": "36b09b7c-2760-406b-8eb5-198e50f7ac16"
      },
      "execution_count": 7,
      "outputs": [
        {
          "output_type": "execute_result",
          "data": {
            "text/plain": [
              "0       25.56\n",
              "1       26.00\n",
              "2       26.53\n",
              "3       25.85\n",
              "4       25.87\n",
              "        ...  \n",
              "8211    73.89\n",
              "8212    74.19\n",
              "8213    73.05\n",
              "8214    73.78\n",
              "8215    73.93\n",
              "Name: Closing Value, Length: 8216, dtype: float64"
            ]
          },
          "metadata": {},
          "execution_count": 7
        }
      ]
    },
    {
      "cell_type": "markdown",
      "source": [
        "Feature Scaling"
      ],
      "metadata": {
        "id": "C5FbWwNNPCHb"
      }
    },
    {
      "cell_type": "code",
      "source": [
        "from sklearn.preprocessing import MinMaxScaler\n",
        "scaler = MinMaxScaler(feature_range=(0,1))\n",
        "data_oil=scaler.fit_transform(np.array(data_oil).reshape(-1,1))"
      ],
      "metadata": {
        "id": "jSyXp-jsJIro"
      },
      "execution_count": 8,
      "outputs": []
    },
    {
      "cell_type": "markdown",
      "source": [
        "Data Visualization"
      ],
      "metadata": {
        "id": "HYIhwehePKp1"
      }
    },
    {
      "cell_type": "code",
      "source": [
        "plt.plot(data_oil)"
      ],
      "metadata": {
        "colab": {
          "base_uri": "https://localhost:8080/",
          "height": 282
        },
        "id": "Nr7LZHPZJ-2Z",
        "outputId": "67ef59c4-728d-458a-ca2e-6a4160ba9802"
      },
      "execution_count": 9,
      "outputs": [
        {
          "output_type": "execute_result",
          "data": {
            "text/plain": [
              "[<matplotlib.lines.Line2D at 0x7f0c5797eb10>]"
            ]
          },
          "metadata": {},
          "execution_count": 9
        },
        {
          "output_type": "display_data",
          "data": {
            "text/plain": [
              "<Figure size 432x288 with 1 Axes>"
            ],
            "image/png": "[encoded data removed]"
          },
          "metadata": {
            "needs_background": "light"
          }
        }
      ]
    },
    {
      "cell_type": "markdown",
      "source": [
        "Split Data into Train and Test "
      ],
      "metadata": {
        "id": "XSI72snFPUAd"
      }
    },
    {
      "cell_type": "code",
      "source": [
        "training_size=int(len(data_oil)*0.65)\n",
        "test_size=len(data_oil)-training_size\n",
        "train_data,test_data=data_oil[0:training_size,:],data_oil[training_size:len(data_oil),:1]"
      ],
      "metadata": {
        "id": "89L3v-nTKFy9"
      },
      "execution_count": 10,
      "outputs": []
    },
    {
      "cell_type": "code",
      "source": [
        "training_size,test_size"
      ],
      "metadata": {
        "colab": {
          "base_uri": "https://localhost:8080/"
        },
        "id": "IvGeF0mWFEHR",
        "outputId": "dedce970-8ab7-4dab-b68e-36d1a906a93a"
      },
      "execution_count": 11,
      "outputs": [
        {
          "output_type": "execute_result",
          "data": {
            "text/plain": [
              "(5340, 2876)"
            ]
          },
          "metadata": {},
          "execution_count": 11
        }
      ]
    },
    {
      "cell_type": "code",
      "source": [
        "train_data.shape"
      ],
      "metadata": {
        "colab": {
          "base_uri": "https://localhost:8080/"
        },
        "id": "ng9hXpq9FWs2",
        "outputId": "4aa2078c-6852-47cd-e56b-fe8a3594b975"
      },
      "execution_count": 12,
      "outputs": [
        {
          "output_type": "execute_result",
          "data": {
            "text/plain": [
              "(5340, 1)"
            ]
          },
          "metadata": {},
          "execution_count": 12
        }
      ]
    },
    {
      "cell_type": "markdown",
      "source": [
        "creating dataset with sliding windows"
      ],
      "metadata": {
        "id": "_sPDmMwYPpHv"
      }
    },
    {
      "cell_type": "code",
      "source": [
        "def create_dataset(dataset,time_step=1):\n",
        "    dataX, dataY = [], []\n",
        "    for i in range(len(dataset)-time_step-1):\n",
        "        a = dataset[i:(i+time_step),0]\n",
        "        dataX.append(a)\n",
        "        dataY.append(dataset[i+time_step,0])\n",
        "    return np.array(dataX), np.array(dataY) "
      ],
      "metadata": {
        "id": "qAnsV1wEF58s"
      },
      "execution_count": 13,
      "outputs": []
    },
    {
      "cell_type": "code",
      "source": [
        "time_step = 10\n",
        "X_train, y_train = create_dataset(train_data, time_step)\n",
        "X_test, ytest = create_dataset(test_data, time_step)"
      ],
      "metadata": {
        "id": "W8uJRCTjJQBO"
      },
      "execution_count": 14,
      "outputs": []
    },
    {
      "cell_type": "code",
      "source": [
        "print(X_train.shape), print(y_train.shape)"
      ],
      "metadata": {
        "colab": {
          "base_uri": "https://localhost:8080/"
        },
        "id": "bUmTFJc-JyIN",
        "outputId": "188182b2-ea59-468f-b135-1f4b208d70db"
      },
      "execution_count": 15,
      "outputs": [
        {
          "output_type": "stream",
          "name": "stdout",
          "text": [
            "(5329, 10)\n",
            "(5329,)\n"
          ]
        },
        {
          "output_type": "execute_result",
          "data": {
            "text/plain": [
              "(None, None)"
            ]
          },
          "metadata": {},
          "execution_count": 15
        }
      ]
    },
    {
      "cell_type": "code",
      "source": [
        "print(X_test.shape), print(ytest.shape)"
      ],
      "metadata": {
        "colab": {
          "base_uri": "https://localhost:8080/"
        },
        "id": "XFEiVGTsKcAN",
        "outputId": "e991e948-38b0-4535-ae86-4b382f649b0c"
      },
      "execution_count": 16,
      "outputs": [
        {
          "output_type": "stream",
          "name": "stdout",
          "text": [
            "(2865, 10)\n",
            "(2865,)\n"
          ]
        },
        {
          "output_type": "execute_result",
          "data": {
            "text/plain": [
              "(None, None)"
            ]
          },
          "metadata": {},
          "execution_count": 16
        }
      ]
    },
    {
      "cell_type": "code",
      "source": [
        "X_train"
      ],
      "metadata": {
        "colab": {
          "base_uri": "https://localhost:8080/"
        },
        "id": "9FIf0HF6K3wd",
        "outputId": "b1769250-ace6-48b8-8d2b-d19f20ca23df"
      },
      "execution_count": 17,
      "outputs": [
        {
          "output_type": "execute_result",
          "data": {
            "text/plain": [
              "array([[0.11335703, 0.11661484, 0.12053902, ..., 0.10980305, 0.1089886 ,\n",
              "        0.11054346],\n",
              "       [0.11661484, 0.12053902, 0.11550422, ..., 0.1089886 , 0.11054346,\n",
              "        0.10165852],\n",
              "       [0.12053902, 0.11550422, 0.1156523 , ..., 0.11054346, 0.10165852,\n",
              "        0.09906708],\n",
              "       ...,\n",
              "       [0.36731823, 0.35176958, 0.36080261, ..., 0.36391234, 0.37042796,\n",
              "        0.37042796],\n",
              "       [0.35176958, 0.36080261, 0.35354657, ..., 0.37042796, 0.37042796,\n",
              "        0.37879461],\n",
              "       [0.36080261, 0.35354657, 0.35295424, ..., 0.37042796, 0.37879461,\n",
              "        0.37916482]])"
            ]
          },
          "metadata": {},
          "execution_count": 17
        }
      ]
    },
    {
      "cell_type": "code",
      "source": [
        "X_train = X_train.reshape(X_train.shape[0],X_train.shape[1] , 1)\n",
        "X_test = X_test.reshape(X_test.shape[0],X_test.shape[1] , 1)"
      ],
      "metadata": {
        "id": "yBjchScZLBZ9"
      },
      "execution_count": 18,
      "outputs": []
    },
    {
      "cell_type": "markdown",
      "source": [
        "Import the Model Building Libraries "
      ],
      "metadata": {
        "id": "C4YRLBaawVNn"
      }
    },
    {
      "cell_type": "code",
      "source": [
        "from tensorflow.keras.models import Sequential\n",
        "from tensorflow.keras.layers import LSTM, Dense"
      ],
      "metadata": {
        "id": "vFjJkJ-hwGht"
      },
      "execution_count": 19,
      "outputs": []
    },
    {
      "cell_type": "markdown",
      "source": [
        "Initializing model"
      ],
      "metadata": {
        "id": "qeDFP5tjxRwb"
      }
    },
    {
      "cell_type": "code",
      "source": [
        "model= Sequential()"
      ],
      "metadata": {
        "id": "nekFEZqbwCZt"
      },
      "execution_count": 20,
      "outputs": []
    },
    {
      "cell_type": "markdown",
      "source": [
        "Adding LSTM Layers\n"
      ],
      "metadata": {
        "id": "FpODWNYKxeZ1"
      }
    },
    {
      "cell_type": "code",
      "source": [
        "model.add(LSTM(50,return_sequences=True,input_shape=(10,1)))\n",
        "model.add(LSTM(50,return_sequences=True))\n",
        "model.add(LSTM(50))"
      ],
      "metadata": {
        "id": "bkmaEBdgxklj"
      },
      "execution_count": 21,
      "outputs": []
    },
    {
      "cell_type": "markdown",
      "source": [
        "Adding Output Layers"
      ],
      "metadata": {
        "id": "uR-EKOJsyMWB"
      }
    },
    {
      "cell_type": "code",
      "source": [
        "model.add(Dense(1))"
      ],
      "metadata": {
        "id": "p0LR1MI66juE"
      },
      "execution_count": 22,
      "outputs": []
    },
    {
      "cell_type": "code",
      "source": [
        "model.summary()"
      ],
      "metadata": {
        "colab": {
          "base_uri": "https://localhost:8080/"
        },
        "id": "h0-LbjivyRr8",
        "outputId": "358f3cfd-7a01-4b29-f2ee-5a10fa0492db"
      },
      "execution_count": 23,
      "outputs": [
        {
          "output_type": "stream",
          "name": "stdout",
          "text": [
            "Model: \"sequential\"\n",
            "_________________________________________________________________\n",
            " Layer (type)                Output Shape              Param #   \n",
            "=================================================================\n",
            " lstm (LSTM)                 (None, 10, 50)            10400     \n",
            "                                                                 \n",
            " lstm_1 (LSTM)               (None, 10, 50)            20200     \n",
            "                                                                 \n",
            " lstm_2 (LSTM)               (None, 50)                20200     \n",
            "                                                                 \n",
            " dense (Dense)               (None, 1)                 51        \n",
            "                                                                 \n",
            "=================================================================\n",
            "Total params: 50,851\n",
            "Trainable params: 50,851\n",
            "Non-trainable params: 0\n",
            "_________________________________________________________________\n"
          ]
        }
      ]
    },
    {
      "cell_type": "markdown",
      "source": [
        "Configure The Learning Process"
      ],
      "metadata": {
        "id": "OvO7IopeyaHQ"
      }
    },
    {
      "cell_type": "code",
      "source": [
        "model.compile(loss='mean_squared_error',optimizer='adam')"
      ],
      "metadata": {
        "id": "uAj1_TilyjfM"
      },
      "execution_count": 24,
      "outputs": []
    },
    {
      "cell_type": "markdown",
      "source": [
        "Train The Model"
      ],
      "metadata": {
        "id": "z5lbBF6yzBHB"
      }
    },
    {
      "cell_type": "code",
      "source": [
        "model.fit(X_train,y_train,validation_data=(X_test,ytest),epochs=50,batch_size=64,verbose=1)"
      ],
      "metadata": {
        "colab": {
          "base_uri": "https://localhost:8080/"
        },
        "id": "4EwunJ62zHQ9",
        "outputId": "253a7007-edec-4541-a9f7-688fd32b23f9"
      },
      "execution_count": 25,
      "outputs": [
        {
          "output_type": "stream",
          "name": "stdout",
          "text": [
            "Epoch 1/50\n",
            "84/84 [==============================] - 11s 47ms/step - loss: 0.0021 - val_loss: 0.0011\n",
            "Epoch 2/50\n",
            "84/84 [==============================] - 2s 29ms/step - loss: 1.2350e-04 - val_loss: 7.5560e-04\n",
            "Epoch 3/50\n",
            "84/84 [==============================] - 3s 30ms/step - loss: 1.2515e-04 - val_loss: 9.5000e-04\n",
            "Epoch 4/50\n",
            "84/84 [==============================] - 2s 28ms/step - loss: 1.2074e-04 - val_loss: 9.1251e-04\n",
            "Epoch 5/50\n",
            "84/84 [==============================] - 2s 28ms/step - loss: 1.2129e-04 - val_loss: 8.4118e-04\n",
            "Epoch 6/50\n",
            "84/84 [==============================] - 2s 29ms/step - loss: 1.1924e-04 - val_loss: 7.4681e-04\n",
            "Epoch 7/50\n",
            "84/84 [==============================] - 2s 29ms/step - loss: 1.1426e-04 - val_loss: 9.9181e-04\n",
            "Epoch 8/50\n",
            "84/84 [==============================] - 2s 28ms/step - loss: 1.2157e-04 - val_loss: 0.0011\n",
            "Epoch 9/50\n",
            "84/84 [==============================] - 2s 29ms/step - loss: 1.1811e-04 - val_loss: 9.8452e-04\n",
            "Epoch 10/50\n",
            "84/84 [==============================] - 2s 28ms/step - loss: 1.1412e-04 - val_loss: 0.0014\n",
            "Epoch 11/50\n",
            "84/84 [==============================] - 2s 29ms/step - loss: 1.2545e-04 - val_loss: 7.1044e-04\n",
            "Epoch 12/50\n",
            "84/84 [==============================] - 2s 29ms/step - loss: 1.0976e-04 - val_loss: 6.5806e-04\n",
            "Epoch 13/50\n",
            "84/84 [==============================] - 2s 28ms/step - loss: 1.0858e-04 - val_loss: 7.5129e-04\n",
            "Epoch 14/50\n",
            "84/84 [==============================] - 2s 30ms/step - loss: 1.0917e-04 - val_loss: 0.0011\n",
            "Epoch 15/50\n",
            "84/84 [==============================] - 2s 29ms/step - loss: 1.0300e-04 - val_loss: 6.7152e-04\n",
            "Epoch 16/50\n",
            "84/84 [==============================] - 2s 29ms/step - loss: 9.6147e-05 - val_loss: 5.2620e-04\n",
            "Epoch 17/50\n",
            "84/84 [==============================] - 2s 29ms/step - loss: 1.0260e-04 - val_loss: 5.7744e-04\n",
            "Epoch 18/50\n",
            "84/84 [==============================] - 2s 29ms/step - loss: 9.1650e-05 - val_loss: 6.4182e-04\n",
            "Epoch 19/50\n",
            "84/84 [==============================] - 2s 28ms/step - loss: 8.5061e-05 - val_loss: 0.0019\n",
            "Epoch 20/50\n",
            "84/84 [==============================] - 2s 29ms/step - loss: 8.8687e-05 - val_loss: 8.9907e-04\n",
            "Epoch 21/50\n",
            "84/84 [==============================] - 2s 28ms/step - loss: 8.3090e-05 - val_loss: 5.7189e-04\n",
            "Epoch 22/50\n",
            "84/84 [==============================] - 2s 29ms/step - loss: 8.2290e-05 - val_loss: 6.7525e-04\n",
            "Epoch 23/50\n",
            "84/84 [==============================] - 2s 28ms/step - loss: 7.9845e-05 - val_loss: 5.2264e-04\n",
            "Epoch 24/50\n",
            "84/84 [==============================] - 2s 28ms/step - loss: 7.9155e-05 - val_loss: 6.6043e-04\n",
            "Epoch 25/50\n",
            "84/84 [==============================] - 2s 28ms/step - loss: 7.5461e-05 - val_loss: 3.8495e-04\n",
            "Epoch 26/50\n",
            "84/84 [==============================] - 2s 28ms/step - loss: 7.1164e-05 - val_loss: 3.6050e-04\n",
            "Epoch 27/50\n",
            "84/84 [==============================] - 2s 28ms/step - loss: 6.3828e-05 - val_loss: 9.3959e-04\n",
            "Epoch 28/50\n",
            "84/84 [==============================] - 2s 28ms/step - loss: 7.1064e-05 - val_loss: 3.5885e-04\n",
            "Epoch 29/50\n",
            "84/84 [==============================] - 2s 29ms/step - loss: 6.2449e-05 - val_loss: 3.0565e-04\n",
            "Epoch 30/50\n",
            "84/84 [==============================] - 2s 28ms/step - loss: 6.4155e-05 - val_loss: 2.8940e-04\n",
            "Epoch 31/50\n",
            "84/84 [==============================] - 2s 28ms/step - loss: 5.8901e-05 - val_loss: 2.8348e-04\n",
            "Epoch 32/50\n",
            "84/84 [==============================] - 2s 28ms/step - loss: 5.6472e-05 - val_loss: 4.6704e-04\n",
            "Epoch 33/50\n",
            "84/84 [==============================] - 2s 28ms/step - loss: 5.7276e-05 - val_loss: 3.3121e-04\n",
            "Epoch 34/50\n",
            "84/84 [==============================] - 2s 28ms/step - loss: 5.6232e-05 - val_loss: 7.2556e-04\n",
            "Epoch 35/50\n",
            "84/84 [==============================] - 2s 28ms/step - loss: 5.4761e-05 - val_loss: 2.5054e-04\n",
            "Epoch 36/50\n",
            "84/84 [==============================] - 2s 28ms/step - loss: 5.3643e-05 - val_loss: 3.9089e-04\n",
            "Epoch 37/50\n",
            "84/84 [==============================] - 2s 28ms/step - loss: 5.1340e-05 - val_loss: 3.5882e-04\n",
            "Epoch 38/50\n",
            "84/84 [==============================] - 2s 28ms/step - loss: 5.4765e-05 - val_loss: 5.2937e-04\n",
            "Epoch 39/50\n",
            "84/84 [==============================] - 2s 28ms/step - loss: 5.0305e-05 - val_loss: 5.1392e-04\n",
            "Epoch 40/50\n",
            "84/84 [==============================] - 2s 28ms/step - loss: 4.8893e-05 - val_loss: 3.2351e-04\n",
            "Epoch 41/50\n",
            "84/84 [==============================] - 2s 28ms/step - loss: 4.6448e-05 - val_loss: 1.9214e-04\n",
            "Epoch 42/50\n",
            "84/84 [==============================] - 2s 28ms/step - loss: 3.9203e-05 - val_loss: 2.3657e-04\n",
            "Epoch 43/50\n",
            "84/84 [==============================] - 2s 28ms/step - loss: 3.9111e-05 - val_loss: 1.7782e-04\n",
            "Epoch 44/50\n",
            "84/84 [==============================] - 2s 28ms/step - loss: 3.6634e-05 - val_loss: 1.7915e-04\n",
            "Epoch 45/50\n",
            "84/84 [==============================] - 2s 28ms/step - loss: 3.7112e-05 - val_loss: 4.9765e-04\n",
            "Epoch 46/50\n",
            "84/84 [==============================] - 2s 28ms/step - loss: 3.7728e-05 - val_loss: 1.8297e-04\n",
            "Epoch 47/50\n",
            "84/84 [==============================] - 2s 29ms/step - loss: 3.6125e-05 - val_loss: 2.3433e-04\n",
            "Epoch 48/50\n",
            "84/84 [==============================] - 2s 29ms/step - loss: 3.4808e-05 - val_loss: 6.1802e-04\n",
            "Epoch 49/50\n",
            "84/84 [==============================] - 3s 30ms/step - loss: 3.8347e-05 - val_loss: 4.1983e-04\n",
            "Epoch 50/50\n",
            "84/84 [==============================] - 2s 29ms/step - loss: 3.7763e-05 - val_loss: 2.1303e-04\n"
          ]
        },
        {
          "output_type": "execute_result",
          "data": {
            "text/plain": [
              "<keras.callbacks.History at 0x7f0bf8f48250>"
            ]
          },
          "metadata": {},
          "execution_count": 25
        }
      ]
    },
    {
      "cell_type": "markdown",
      "source": [
        "Model Evaluation"
      ],
      "metadata": {
        "id": "odQkoxI50J4p"
      }
    },
    {
      "cell_type": "code",
      "source": [
        "import tensorflow as tf"
      ],
      "metadata": {
        "id": "T8fMhxaj6dyG"
      },
      "execution_count": 26,
      "outputs": []
    },
    {
      "cell_type": "code",
      "source": [
        "train_predict = model.predict(X_train)\n",
        "test_predict = model.predict(X_test)"
      ],
      "metadata": {
        "colab": {
          "base_uri": "https://localhost:8080/"
        },
        "id": "2v2CKMCDSh-O",
        "outputId": "96321915-763e-4ac9-84d0-474b396c8ad7"
      },
      "execution_count": 27,
      "outputs": [
        {
          "output_type": "stream",
          "name": "stdout",
          "text": [
            "167/167 [==============================] - 2s 6ms/step\n",
            "90/90 [==============================] - 1s 6ms/step\n"
          ]
        }
      ]
    },
    {
      "cell_type": "code",
      "source": [
        "train_predict=scaler.inverse_transform(train_predict)\n",
        "test_predict=scaler.inverse_transform(test_predict)"
      ],
      "metadata": {
        "id": "4eV7bUvs3mQD"
      },
      "execution_count": 28,
      "outputs": []
    },
    {
      "cell_type": "code",
      "source": [
        "import math\n",
        "from sklearn.metrics import mean_squared_error\n",
        "math.sqrt(mean_squared_error(y_train,train_predict))"
      ],
      "metadata": {
        "colab": {
          "base_uri": "https://localhost:8080/"
        },
        "id": "UreMs4Oo1kUM",
        "outputId": "277c5434-1c07-4ade-bd16-b8c19825435e"
      },
      "execution_count": 29,
      "outputs": [
        {
          "output_type": "execute_result",
          "data": {
            "text/plain": [
              "29.324952442523394"
            ]
          },
          "metadata": {},
          "execution_count": 29
        }
      ]
    },
    {
      "cell_type": "code",
      "source": [
        "math.sqrt(mean_squared_error(ytest,test_predict))"
      ],
      "metadata": {
        "colab": {
          "base_uri": "https://localhost:8080/"
        },
        "id": "p6ruC9OWyaSF",
        "outputId": "7fa94440-eca3-4fab-eadc-d7f52c3b2b8a"
      },
      "execution_count": 30,
      "outputs": [
        {
          "output_type": "execute_result",
          "data": {
            "text/plain": [
              "78.15551944410458"
            ]
          },
          "metadata": {},
          "execution_count": 30
        }
      ]
    },
    {
      "cell_type": "markdown",
      "source": [
        "Save the Model"
      ],
      "metadata": {
        "id": "K6_X7hWQ6e-h"
      }
    },
    {
      "cell_type": "code",
      "source": [
        "from tensorflow.keras.models import load_model"
      ],
      "metadata": {
        "id": "98suRJjI6cNd"
      },
      "execution_count": 31,
      "outputs": []
    },
    {
      "cell_type": "code",
      "source": [
        "model.save(\"crude_oil.h5\")"
      ],
      "metadata": {
        "id": "TISv8n7V6vI2"
      },
      "execution_count": 32,
      "outputs": []
    },
    {
      "cell_type": "markdown",
      "source": [
        "Test the Model"
      ],
      "metadata": {
        "id": "iiy85LTL7GKP"
      }
    },
    {
      "cell_type": "code",
      "source": [
        "look_back=10\n",
        "trainPredictPlot = np.empty_like(data_oil)\n",
        "trainPredictPlot[:, :]=np.nan\n",
        "trainPredictPlot[look_back:len(train_predict)+look_back,:]= train_predict\n",
        "testPredictPlot = np.empty_like(data_oil)\n",
        "testPredictPlot[:, :]=np.nan\n",
        "testPredictPlot[len(train_predict)+(look_back*2)+1:len(data_oil)-1, :]= test_predict\n",
        "plt.plot(scaler.inverse_transform(data_oil))\n",
        "plt.plot(trainPredictPlot,label=\"traindata\")\n",
        "plt.plot(testPredictPlot,label=\"testdata\")\n",
        "plt.show()\n",
        "print(\"Green indicates predicated data\")\n",
        "print(\"Blue indicates complete data\")\n",
        "print(\"Orange indicates train data\")\n"
      ],
      "metadata": {
        "id": "cQ2m6lzo7FSD",
        "colab": {
          "base_uri": "https://localhost:8080/",
          "height": 317
        },
        "outputId": "b0be7913-708b-49d3-f9ef-104f4c4d5c2c"
      },
      "execution_count": 33,
      "outputs": [
        {
          "output_type": "display_data",
          "data": {
            "text/plain": [
              "<Figure size 432x288 with 1 Axes>"
            ],
            "image/png": "[encoded data removed]"
          },
          "metadata": {
            "needs_background": "light"
          }
        },
        {
          "output_type": "stream",
          "name": "stdout",
          "text": [
            "Green indicates predicated data\n",
            "Blue indicates complete data\n",
            "Orange indicates train data\n"
          ]
        }
      ]
    },
    {
      "cell_type": "markdown",
      "source": [
        "predict the price of crude oil for next 10 days"
      ],
      "metadata": {
        "id": "uQbIHpZRPLpr"
      }
    },
    {
      "cell_type": "code",
      "source": [
        "len(test_data)"
      ],
      "metadata": {
        "colab": {
          "base_uri": "https://localhost:8080/"
        },
        "id": "ifWyzrl0Yr7T",
        "outputId": "57580b44-c87c-4e0c-d6eb-5abd51161544"
      },
      "execution_count": 34,
      "outputs": [
        {
          "output_type": "execute_result",
          "data": {
            "text/plain": [
              "2876"
            ]
          },
          "metadata": {},
          "execution_count": 34
        }
      ]
    },
    {
      "cell_type": "code",
      "source": [
        "X_input=test_data[2866:].reshape(1,-1)\n",
        "X_input.shape"
      ],
      "metadata": {
        "id": "tqUNn3DYYw_-",
        "colab": {
          "base_uri": "https://localhost:8080/"
        },
        "outputId": "4f584dad-790a-44b4-e01a-45082f0654dd"
      },
      "execution_count": 35,
      "outputs": [
        {
          "output_type": "execute_result",
          "data": {
            "text/plain": [
              "(1, 10)"
            ]
          },
          "metadata": {},
          "execution_count": 35
        }
      ]
    },
    {
      "cell_type": "code",
      "source": [
        "temp_input=list(X_input)\n",
        "temp_input=temp_input[0].tolist()"
      ],
      "metadata": {
        "id": "Ahp0t2fTPnk9"
      },
      "execution_count": 36,
      "outputs": []
    },
    {
      "cell_type": "code",
      "source": [
        "temp_input"
      ],
      "metadata": {
        "colab": {
          "base_uri": "https://localhost:8080/"
        },
        "id": "NiiqibJzUn1r",
        "outputId": "5788f536-8d43-40ef-fa2f-b40a226e0aa6"
      },
      "execution_count": 37,
      "outputs": [
        {
          "output_type": "execute_result",
          "data": {
            "text/plain": [
              "[0.44172960165852215,\n",
              " 0.48111950244335855,\n",
              " 0.49726047682511476,\n",
              " 0.4679401747371539,\n",
              " 0.4729749740855915,\n",
              " 0.47119798608026064,\n",
              " 0.47341922108692425,\n",
              " 0.4649785280616022,\n",
              " 0.4703835332444839,\n",
              " 0.47149415074781587]"
            ]
          },
          "metadata": {},
          "execution_count": 37
        }
      ]
    },
    {
      "cell_type": "code",
      "source": [
        "lst_output=[]\n",
        "n_steps=10\n",
        "i=0\n",
        "while(i<10):\n",
        "  if(len(temp_input)>10):\n",
        "    X_input=np.array(temp_input[1:])\n",
        "    print(\"{} Day input {}\".format(i,X_input))\n",
        "    X_input=X_input.reshape(1,-1)\n",
        "    X_input=X_input.reshape((1,n_steps,1))   \n",
        "    yhat=model.predict(X_input, verbose=0)\n",
        "    print(\"{} Day output {}\".format(i,yhat))\n",
        "    temp_input.extend(yhat[0].tolist())\n",
        "    temp_input=temp_input[1:]\n",
        "    lst_output.extend(yhat.tolist())\n",
        "    i=i+1\n",
        "  else:\n",
        "    X_input=X_input.reshape((1,n_steps,1))\n",
        "    yhat=model.predict(X_input, verbose=0)\n",
        "    print(yhat[0])\n",
        "    temp_input.extend(yhat[0].tolist())\n",
        "    print(len(temp_input))\n",
        "    lst_output.extend(yhat.tolist())\n",
        "    i=i+1 "
      ],
      "metadata": {
        "colab": {
          "base_uri": "https://localhost:8080/"
        },
        "id": "bPwkoIJUVR3L",
        "outputId": "3b623565-e98f-427a-b083-cf6f544ffdb9"
      },
      "execution_count": 38,
      "outputs": [
        {
          "output_type": "stream",
          "name": "stdout",
          "text": [
            "[0.47080058]\n",
            "11\n",
            "1 Day input [0.4811195  0.49726048 0.46794017 0.47297497 0.47119799 0.47341922\n",
            " 0.46497853 0.47038353 0.47149415 0.47080058]\n",
            "1 Day output [[0.47046772]]\n",
            "2 Day input [0.49726048 0.46794017 0.47297497 0.47119799 0.47341922 0.46497853\n",
            " 0.47038353 0.47149415 0.47080058 0.47046772]\n",
            "2 Day output [[0.4694786]]\n",
            "3 Day input [0.46794017 0.47297497 0.47119799 0.47341922 0.46497853 0.47038353\n",
            " 0.47149415 0.47080058 0.47046772 0.46947861]\n",
            "3 Day output [[0.46792367]]\n",
            "4 Day input [0.47297497 0.47119799 0.47341922 0.46497853 0.47038353 0.47149415\n",
            " 0.47080058 0.47046772 0.46947861 0.46792367]\n",
            "4 Day output [[0.46632752]]\n",
            "5 Day input [0.47119799 0.47341922 0.46497853 0.47038353 0.47149415 0.47080058\n",
            " 0.47046772 0.46947861 0.46792367 0.46632752]\n",
            "5 Day output [[0.46470538]]\n",
            "6 Day input [0.47341922 0.46497853 0.47038353 0.47149415 0.47080058 0.47046772\n",
            " 0.46947861 0.46792367 0.46632752 0.46470538]\n",
            "6 Day output [[0.46320683]]\n",
            "7 Day input [0.46497853 0.47038353 0.47149415 0.47080058 0.47046772 0.46947861\n",
            " 0.46792367 0.46632752 0.46470538 0.46320683]\n",
            "7 Day output [[0.4618554]]\n",
            "8 Day input [0.47038353 0.47149415 0.47080058 0.47046772 0.46947861 0.46792367\n",
            " 0.46632752 0.46470538 0.46320683 0.46185541]\n",
            "8 Day output [[0.46076536]]\n",
            "9 Day input [0.47149415 0.47080058 0.47046772 0.46947861 0.46792367 0.46632752\n",
            " 0.46470538 0.46320683 0.46185541 0.46076536]\n",
            "9 Day output [[0.45982006]]\n"
          ]
        }
      ]
    },
    {
      "cell_type": "code",
      "source": [
        "day_new=np.arange(1,11)\n",
        "day_pred=np.arange(11,21)"
      ],
      "metadata": {
        "id": "rzbFkmg6brO1"
      },
      "execution_count": 39,
      "outputs": []
    },
    {
      "cell_type": "code",
      "source": [
        "len(data_oil)"
      ],
      "metadata": {
        "colab": {
          "base_uri": "https://localhost:8080/"
        },
        "id": "Ay_51hbtfXVL",
        "outputId": "9e5cc584-b203-42d7-f0cd-cf8b9576d537"
      },
      "execution_count": 40,
      "outputs": [
        {
          "output_type": "execute_result",
          "data": {
            "text/plain": [
              "8216"
            ]
          },
          "metadata": {},
          "execution_count": 40
        }
      ]
    },
    {
      "cell_type": "code",
      "source": [
        "plt.plot(day_new,scaler.inverse_transform(data_oil[8206:]))\n",
        "plt.plot(day_pred,scaler.inverse_transform(lst_output))"
      ],
      "metadata": {
        "colab": {
          "base_uri": "https://localhost:8080/",
          "height": 282
        },
        "id": "6M2Iqb81faNo",
        "outputId": "61220658-acb2-4316-e10e-3a0d878b6eeb"
      },
      "execution_count": 41,
      "outputs": [
        {
          "output_type": "execute_result",
          "data": {
            "text/plain": [
              "[<matplotlib.lines.Line2D at 0x7f0bf3db9750>]"
            ]
          },
          "metadata": {},
          "execution_count": 41
        },
        {
          "output_type": "display_data",
          "data": {
            "text/plain": [
              "<Figure size 432x288 with 1 Axes>"
            ],
            "image/png": "[encoded data removed]"
          },
          "metadata": {
            "needs_background": "light"
          }
        }
      ]
    },
    {
      "cell_type": "code",
      "source": [
        "df3=data_oil.tolist()\n",
        "df3.extend(lst_output)\n",
        "plt.plot(df3[8100:])"
      ],
      "metadata": {
        "colab": {
          "base_uri": "https://localhost:8080/",
          "height": 282
        },
        "id": "6sqVNYf9gR1f",
        "outputId": "56087d40-7407-4c93-d769-36aa2c507442"
      },
      "execution_count": 42,
      "outputs": [
        {
          "output_type": "execute_result",
          "data": {
            "text/plain": [
              "[<matplotlib.lines.Line2D at 0x7f0bf896b810>]"
            ]
          },
          "metadata": {},
          "execution_count": 42
        },
        {
          "output_type": "display_data",
          "data": {
            "text/plain": [
              "<Figure size 432x288 with 1 Axes>"
            ],
            "image/png": "[encoded data removed]"
          },
          "metadata": {
            "needs_background": "light"
          }
        }
      ]
    },
    {
      "cell_type": "code",
      "source": [
        "df3=scaler.inverse_transform(df3).tolist()\n",
        "plt.plot(df3)"
      ],
      "metadata": {
        "colab": {
          "base_uri": "https://localhost:8080/",
          "height": 282
        },
        "id": "hF1LC1dngzzM",
        "outputId": "d3c4afd0-1d33-4d45-9356-fec865a3473f"
      },
      "execution_count": 43,
      "outputs": [
        {
          "output_type": "execute_result",
          "data": {
            "text/plain": [
              "[<matplotlib.lines.Line2D at 0x7f0bf89c41d0>]"
            ]
          },
          "metadata": {},
          "execution_count": 43
        },
        {
          "output_type": "display_data",
          "data": {
            "text/plain": [
              "<Figure size 432x288 with 1 Axes>"
            ],
            "image/png": "[encoded data removed]"
          },
          "metadata": {
            "needs_background": "light"
          }
        }
      ]
    }
  ]
}